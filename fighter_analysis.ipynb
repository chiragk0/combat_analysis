{
 "cells": [
  {
   "attachments": {},
   "cell_type": "markdown",
   "metadata": {},
   "source": [
    "<h1>UFC Fighter Analysis</h1>"
   ]
  },
  {
   "attachments": {},
   "cell_type": "markdown",
   "metadata": {},
   "source": [
    "## Data Cleaning"
   ]
  },
  {
   "cell_type": "code",
   "execution_count": null,
   "metadata": {},
   "outputs": [],
   "source": [
    "#import the necessary libraries\n",
    "import pandas as pd\n",
    "import numpy as np \n",
    "from scipy import stats \n",
    "%matplotlib inline\n",
    "import matplotlib.pyplot as plt\n",
    "import plotly.express as px\n",
    "import seaborn as sns\n",
    "import tkinter as tk\n",
    "from tkinter import filedialog\n",
    "from ydata_profiling import ProfileReport"
   ]
  },
  {
   "cell_type": "code",
   "execution_count": null,
   "metadata": {},
   "outputs": [],
   "source": [
    "#import the data set\n",
    "ufc_df = pd.read_csv('/Users/chirag/Downloads/ufc_data/ufc_fighters.csv')\n",
    "ufc_df.head()"
   ]
  },
  {
   "cell_type": "code",
   "execution_count": null,
   "metadata": {},
   "outputs": [],
   "source": [
    "#a top-down view of the fighters dataset that covers a multitude of key statistics\n",
    "#best to run after performing the remainder of the analysis\n",
    "profile = ProfileReport(ufc_df, title = \"Exploratory Data Analysis of Fighter Data\")\n",
    "profile.to_notebook_iframe()"
   ]
  },
  {
   "cell_type": "code",
   "execution_count": null,
   "metadata": {},
   "outputs": [],
   "source": [
    "#replacing all innstances of -- in the data set with null values\n",
    "ufc_df.replace(\"--\", np.nan, inplace=True)"
   ]
  },
  {
   "cell_type": "code",
   "execution_count": null,
   "metadata": {},
   "outputs": [],
   "source": [
    "#function used to split the height column and convert the feet into inches\n",
    "def convert_height_to_inches(height):\n",
    "    if pd.isna(height):\n",
    "        return np.nan\n",
    "    else:\n",
    "        height_parts = height.split(\"'\")\n",
    "        feet = int(float(height_parts[0].strip()))\n",
    "        inches = int(float(height_parts[1].strip().replace(\"\\\"\", \"\")))\n",
    "        return feet * 12 + inches\n",
    "\n",
    "#applying the function to make a new column\n",
    "ufc_df[\"Height (inches)\"] = ufc_df[\"Height\"].apply(convert_height_to_inches)\n",
    "\n",
    "#dropping the old height column\n",
    "ufc_df.drop(\"Height\", axis=1, inplace=True)\n",
    "\n",
    "print(ufc_df.head())"
   ]
  },
  {
   "cell_type": "code",
   "execution_count": null,
   "metadata": {},
   "outputs": [],
   "source": [
    "#removing the \" from the reach string and converting its data type to float\n",
    "ufc_df[\"Reach (inches)\"] = ufc_df[\"Reach\"].str.replace(\"\\\"\", \"\").astype(float)\n",
    "\n",
    "ufc_df.drop(\"Reach\", axis=1, inplace=True)\n",
    "\n",
    "print(ufc_df.head())"
   ]
  },
  {
   "cell_type": "code",
   "execution_count": null,
   "metadata": {},
   "outputs": [],
   "source": [
    "#splitting the numeric value and the suffix of lbs. from each other in the Weight column\n",
    "ufc_df['Weight (lbs)'] = ufc_df['Weight'].str.split(' lbs.').str[0]\n",
    "\n",
    "#changing the variable type to a numeric variable\n",
    "ufc_df['Weight (lbs)'] = pd.to_numeric(ufc_df['Weight (lbs)'], errors='coerce')\n",
    "\n",
    "#removing the previous weight column\n",
    "ufc_df.drop('Weight', axis=1, inplace=True)\n",
    "\n",
    "print(ufc_df.head())"
   ]
  },
  {
   "cell_type": "code",
   "execution_count": null,
   "metadata": {},
   "outputs": [],
   "source": [
    "#creating a new column called win percentage to represent the win percentage of each fighter\n",
    "ufc_df['Win %'] = (ufc_df['Wins'] / (ufc_df['Wins'] + ufc_df['Losses'] + ufc_df['Draws'])) * 100\n",
    "#creating a new column called amount of fights to represent the total amount of fights for each fighter\n",
    "ufc_df['Amount of Fights'] = (ufc_df['Wins'] + ufc_df['Losses'] + ufc_df['Draws'])\n",
    "\n",
    "print(ufc_df.head())"
   ]
  },
  {
   "attachments": {},
   "cell_type": "markdown",
   "metadata": {},
   "source": [
    "## Analysis"
   ]
  },
  {
   "attachments": {},
   "cell_type": "markdown",
   "metadata": {},
   "source": [
    "#### Graph 1 - Height [in] vs Win %"
   ]
  },
  {
   "cell_type": "code",
   "execution_count": null,
   "metadata": {},
   "outputs": [],
   "source": [
    "fig = px.scatter(ufc_df, x='Height (inches)', y='Win %', opacity=0.7, color_discrete_sequence=['#636EFA'])\n",
    "fig.update_traces(marker_size=6, hovertemplate='Height (inches): %{x}<br>Win %: %{y:.2f}')\n",
    "fig.update_layout(\n",
    "    title='Height (inches) vs. Win %',\n",
    "    xaxis_title='Height (inches)',\n",
    "    yaxis_title='Win %',\n",
    "    title_x=0.5\n",
    ")\n",
    "fig.show()"
   ]
  },
  {
   "attachments": {},
   "cell_type": "markdown",
   "metadata": {},
   "source": [
    "#### Graph 2 - Average Winning Percentage"
   ]
  },
  {
   "cell_type": "code",
   "execution_count": null,
   "metadata": {},
   "outputs": [],
   "source": [
    "fig = px.histogram(ufc_df.groupby('Stance')['Win %'].mean().reset_index(), x='Stance', y='Win %', title='Average Winning Percentage in every Stance')\n",
    "fig.update_layout(title_x=0.5)\n",
    "fig.update_traces(marker_color='#636EFA', hovertemplate='Win %: %{y:.2f}')\n",
    "fig.update_xaxes(title=None, tickangle=45, tickfont=dict(size=10))\n",
    "fig.update_yaxes(title='Average Winning Percentage')\n",
    "fig.show()"
   ]
  },
  {
   "attachments": {},
   "cell_type": "markdown",
   "metadata": {},
   "source": [
    "#### Graph 3 - Stance Count"
   ]
  },
  {
   "cell_type": "code",
   "execution_count": null,
   "metadata": {},
   "outputs": [],
   "source": [
    "fig = px.histogram(ufc_df, x='Stance', title='Stance Count')\n",
    "fig.update_layout(title_x=0.5)\n",
    "fig.update_traces(marker_color='#636EFA')\n",
    "fig.update_xaxes(title=None, tickangle=45, tickfont=dict(size=10))\n",
    "fig.update_yaxes(title='Count')\n",
    "fig.show()"
   ]
  },
  {
   "cell_type": "code",
   "execution_count": null,
   "metadata": {},
   "outputs": [],
   "source": [
    "#creating a new table with the mean and std win percentage per stance used\n",
    "avg_win_percentage = ufc_df.groupby('Stance')['Win %'].mean().reset_index()\n",
    "std_win_percentage = ufc_df.groupby('Stance')['Win %'].std().reset_index()\n",
    "win_percentage_table = pd.merge(avg_win_percentage, std_win_percentage, on='Stance', suffixes=(' mean', ' std'))\n",
    "win_percentage_table = win_percentage_table.sort_values('Win % mean', ascending=False)\n",
    "\n",
    "print(win_percentage_table)"
   ]
  },
  {
   "cell_type": "code",
   "execution_count": null,
   "metadata": {},
   "outputs": [],
   "source": [
    "#creating multiple new data frames storing fighteres from each weight class into each \n",
    "strawweight = ufc_df[ufc_df['Weight (lbs)'] < 115]\n",
    "flyweight = ufc_df[(ufc_df['Weight (lbs)'] >= 116) & (ufc_df['Weight (lbs)'] <= 125)]\n",
    "bantamweight = ufc_df[(ufc_df['Weight (lbs)'] >= 126) & (ufc_df['Weight (lbs)'] <= 135)]\n",
    "featherweight = ufc_df[(ufc_df['Weight (lbs)'] >= 136) & (ufc_df['Weight (lbs)'] <= 145)]\n",
    "lightweight = ufc_df[(ufc_df['Weight (lbs)'] >= 146) & (ufc_df['Weight (lbs)'] <= 155)]\n",
    "welterweight = ufc_df[(ufc_df['Weight (lbs)'] >= 156) & (ufc_df['Weight (lbs)'] <= 170)]\n",
    "middleweight = ufc_df[(ufc_df['Weight (lbs)'] >= 171) & (ufc_df['Weight (lbs)'] <= 185)]\n",
    "lightheavyweight = ufc_df[(ufc_df['Weight (lbs)'] >= 186) & (ufc_df['Weight (lbs)'] <= 205)]\n",
    "heavyweight = ufc_df[ufc_df['Weight (lbs)'] > 206]"
   ]
  },
  {
   "cell_type": "code",
   "execution_count": null,
   "metadata": {},
   "outputs": [],
   "source": [
    "# Calculate average height for each weight division\n",
    "strawweight_avg_height = strawweight['Height (inches)'].mean()\n",
    "flyweight_avg_height = flyweight['Height (inches)'].mean()\n",
    "bantamweight_avg_height = bantamweight['Height (inches)'].mean()\n",
    "featherweight_avg_height = featherweight['Height (inches)'].mean()\n",
    "lightweight_avg_height = lightweight['Height (inches)'].mean()\n",
    "welterweight_avg_height = welterweight['Height (inches)'].mean()\n",
    "middleweight_avg_height = middleweight['Height (inches)'].mean()\n",
    "lightheavyweight_avg_height = lightheavyweight['Height (inches)'].mean()\n",
    "heavyweight_avg_height = heavyweight['Height (inches)'].mean()\n",
    "\n",
    "#calculating average reach for each weight division\n",
    "strawweight_avg_reach = strawweight['Reach (inches)'].mean()\n",
    "flyweight_avg_reach = flyweight['Reach (inches)'].mean()\n",
    "bantamweight_avg_reach = bantamweight['Reach (inches)'].mean()\n",
    "featherweight_avg_reach = featherweight['Reach (inches)'].mean()\n",
    "lightweight_avg_reach = lightweight['Reach (inches)'].mean()\n",
    "welterweight_avg_reach = welterweight['Reach (inches)'].mean()\n",
    "middleweight_avg_reach = middleweight['Reach (inches)'].mean()\n",
    "lightheavyweight_avg_reach = lightheavyweight['Reach (inches)'].mean()\n",
    "heavyweight_avg_reach = heavyweight['Reach (inches)'].mean()\n",
    "\n",
    "#calculating the amount of fighters that have fought in each weight division\n",
    "strawweight_count = len(strawweight)\n",
    "flyweight_count = len(flyweight)\n",
    "bantamweight_count = len(bantamweight)\n",
    "featherweight_count = len(featherweight)\n",
    "lightweight_count = len(lightweight)\n",
    "welterweight_count = len(welterweight)\n",
    "middleweight_count = len(middleweight)\n",
    "lightheavyweight_count = len(lightheavyweight)\n",
    "heavyweight_count = len(heavyweight)\n",
    "\n",
    "#calculating the total number of fights (tnf) per weight division\n",
    "strawweight_tnf = strawweight[\"Amount of Fights\"].sum()\n",
    "flyweight_tnf = flyweight[\"Amount of Fights\"].sum()\n",
    "bantamweight_tnf = bantamweight[\"Amount of Fights\"].sum()\n",
    "featherweight_tnf = featherweight[\"Amount of Fights\"].sum()\n",
    "lightweight_tnf = lightweight[\"Amount of Fights\"].sum()\n",
    "welterweight_tnf = welterweight[\"Amount of Fights\"].sum()\n",
    "middleweight_tnf = middleweight[\"Amount of Fights\"].sum()\n",
    "lightheavyweight_tnf = lightheavyweight[\"Amount of Fights\"].sum()\n",
    "heavyweight_tnf = heavyweight[\"Amount of Fights\"].sum()"
   ]
  },
  {
   "cell_type": "code",
   "execution_count": null,
   "metadata": {},
   "outputs": [],
   "source": [
    "# Create a new dataframe with the calculations above\n",
    "ufc_stats_df = pd.DataFrame({'Weight Division': ['Strawweight', 'Flyweight', 'Bantamweight', 'Featherweight', 'Lightweight', 'Welterweight', 'Middleweight', 'Lightheavyweight', 'Heavyweight'],\n",
    "                              'Average Height (inches)': [strawweight_avg_height, flyweight_avg_height, bantamweight_avg_height, featherweight_avg_height, lightweight_avg_height, welterweight_avg_height, middleweight_avg_height, lightheavyweight_avg_height, heavyweight_avg_height],\n",
    "                              'Average Reach (inches)': [strawweight_avg_reach, flyweight_avg_reach, bantamweight_avg_reach, featherweight_avg_reach, lightweight_avg_reach, welterweight_avg_reach, middleweight_avg_reach, lightheavyweight_avg_reach, heavyweight_avg_reach],\n",
    "                             'Amount of Fighters': [strawweight_count, flyweight_count, bantamweight_count, featherweight_count, lightweight_count, welterweight_count, middleweight_count, lightheavyweight_count, heavyweight_count],\n",
    "                             'Fights per Division': [strawweight_tnf, flyweight_tnf, bantamweight_tnf, featherweight_tnf, lightweight_tnf, welterweight_tnf, middleweight_tnf, lightheavyweight_tnf, heavyweight_tnf]})\n",
    "print(ufc_stats_df)"
   ]
  },
  {
   "attachments": {},
   "cell_type": "markdown",
   "metadata": {},
   "source": [
    "#### Graph 4 - Amount of Fighters and Fights per Division by Weight Division"
   ]
  },
  {
   "cell_type": "code",
   "execution_count": null,
   "metadata": {},
   "outputs": [],
   "source": [
    "fig = px.bar(ufc_stats_df, x='Weight Division', y='Amount of Fighters', color_discrete_sequence=['forestgreen'], title='Amount of Fighters and Fights per Division by Weight Division')\n",
    "fig.update_layout(xaxis={'categoryorder':'category ascending'})\n",
    "\n",
    "fig.add_bar(x=ufc_stats_df['Weight Division'], y=ufc_stats_df['Fights per Division'], marker_color='indigo', name='Fights per Division')\n",
    "\n",
    "fig.update_xaxes(title='Weight Division', tickangle=45)\n",
    "fig.update_yaxes(title='Amount of Fighters', secondary_y=False)\n",
    "fig.update_yaxes(title='Fights per Division', secondary_y=True, showgrid=False)\n",
    "\n",
    "fig.show()"
   ]
  },
  {
   "attachments": {},
   "cell_type": "markdown",
   "metadata": {},
   "source": [
    "#### Graph 5 - Average Height and Reach by Weight Division"
   ]
  },
  {
   "cell_type": "code",
   "execution_count": null,
   "metadata": {},
   "outputs": [],
   "source": [
    "fig = px.line(ufc_stats_df, x=\"Weight Division\", y=\"Average Height (inches)\", color_discrete_sequence=['indigo'])\n",
    "fig.add_scatter(x=ufc_stats_df[\"Weight Division\"], y=ufc_stats_df[\"Average Height (inches)\"], mode='markers', marker=dict(color='forestgreen'), name = 'Average Height')\n",
    "\n",
    "fig.add_trace(px.line(ufc_stats_df, x=\"Weight Division\", y=\"Average Reach (inches)\", color_discrete_sequence=['forestgreen']).data[0])\n",
    "fig.add_scatter(x=ufc_stats_df[\"Weight Division\"], y=ufc_stats_df[\"Average Reach (inches)\"], mode='markers', marker=dict(color='indigo'), name = 'Average Reach')\n",
    "\n",
    "fig.update_layout(title=\"Average Height and Reach by Weight Division\", xaxis_title=\"Weight Division\", yaxis_title=\"Average Height/Reach (inches)\", xaxis_tickangle=-45)\n",
    "fig.show()"
   ]
  },
  {
   "attachments": {},
   "cell_type": "markdown",
   "metadata": {},
   "source": [
    "#### Final Data Overview - ufc_df"
   ]
  },
  {
   "cell_type": "code",
   "execution_count": null,
   "metadata": {},
   "outputs": [],
   "source": [
    "#run the profile report again for a comprehensive look at the data frame upon completing the analysis\n",
    "profile = ProfileReport(ufc_df, title = \"Exploratory Data Analysis of Fighter Data\")\n",
    "profile.to_notebook_iframe()"
   ]
  },
  {
   "attachments": {},
   "cell_type": "markdown",
   "metadata": {},
   "source": [
    "#### Final Data Overview - ufc_stats_df"
   ]
  },
  {
   "cell_type": "code",
   "execution_count": null,
   "metadata": {},
   "outputs": [],
   "source": [
    "#a final look at the ufc stats dataframe created earlier\n",
    "profile_stats  = ProfileReport(ufc_stats_df, title = \"Exploratory Data Analysis of Fighter Data\")\n",
    "profile_stats.to_notebook_iframe()"
   ]
  }
 ],
 "metadata": {
  "kernelspec": {
   "display_name": "minimal_ds",
   "language": "python",
   "name": "python3"
  },
  "language_info": {
   "codemirror_mode": {
    "name": "ipython",
    "version": 3
   },
   "file_extension": ".py",
   "mimetype": "text/x-python",
   "name": "python",
   "nbconvert_exporter": "python",
   "pygments_lexer": "ipython3",
   "version": "3.10.10"
  },
  "orig_nbformat": 4
 },
 "nbformat": 4,
 "nbformat_minor": 2
}
